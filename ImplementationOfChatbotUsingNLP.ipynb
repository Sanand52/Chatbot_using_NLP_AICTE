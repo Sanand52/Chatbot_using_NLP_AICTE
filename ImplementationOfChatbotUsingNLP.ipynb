{
 "cells": [
  {
   "cell_type": "markdown",
   "metadata": {},
   "source": [
    "Implementation Of chatbot using NLP"
   ]
  },
  {
   "cell_type": "code",
   "execution_count": null,
   "metadata": {},
   "outputs": [],
   "source": [
    "pip install nltk scikit-learn streamlit"
   ]
  },
  {
   "cell_type": "code",
   "execution_count": 4,
   "metadata": {},
   "outputs": [],
   "source": [
    "#Impoting necessary libraries\n",
    "import nltk\n",
    "import random\n",
    "import os\n",
    "import ssl\n",
    "import streamlit\n",
    "from sklearn.feature_extraction.text import TfidfVectorizer\n",
    "from sklearn.linear_model import LogisticRegression"
   ]
  },
  {
   "cell_type": "code",
   "execution_count": 5,
   "metadata": {},
   "outputs": [
    {
     "name": "stderr",
     "output_type": "stream",
     "text": [
      "[nltk_data] Downloading package punkt to\n",
      "[nltk_data]     C:\\Users\\Anand\\AppData\\Roaming\\nltk_data...\n",
      "[nltk_data]   Unzipping tokenizers\\punkt.zip.\n"
     ]
    },
    {
     "data": {
      "text/plain": [
       "True"
      ]
     },
     "execution_count": 5,
     "metadata": {},
     "output_type": "execute_result"
    }
   ],
   "source": [
    "ssl._create_default_https_context = ssl._create_unverified_context\n",
    "nltk.data.path.append(os.path.abspath('nltk_data'))\n",
    "nltk.download('punkt')"
   ]
  },
  {
   "cell_type": "code",
   "execution_count": 6,
   "metadata": {},
   "outputs": [],
   "source": [
    "intents = [\n",
    "    {\n",
    "        'tag':'greeting',\n",
    "        'pattern': ['Hi','Hello','Hey','whats up','how are you'],\n",
    "        'responses':['hi there','hello','hey','nothing much','i m fine,thank you']\n",
    "    },\n",
    "    {\n",
    "        'tag': 'goodbye',\n",
    "        'patterns': ['Bye', 'See you later', 'Goodbye', 'Nice chatting to you, bye', 'Till next time'],\n",
    "        'responses': ['See you!', 'Have a nice day', 'Bye!', 'Goodbye!', 'Till next time!']\n",
    "    },\n",
    "    {\n",
    "        'tag': 'thanks',\n",
    "        'patterns': ['Thanks', 'Thank you', 'That\\'s helpful', 'Awesome, thanks', 'Thanks for helping me'],\n",
    "        'responses': ['Happy to help!', 'Any time!', 'My pleasure', 'You\\'re welcome!']\n",
    "    },\n",
    "    {\n",
    "        'tag': 'name',\n",
    "        'patterns': ['What is your name?', 'Who are you?', 'Can I know your name?', 'What should I call you?'],\n",
    "        'responses': ['You can call me ChatBot.', 'I\\'m your friendly ChatBot!', 'I go by ChatBot.']\n",
    "    },\n",
    "    {\n",
    "        'tag': 'help',\n",
    "        'patterns': ['Help', 'I need help', 'Can you help me?', 'What can you do?', 'How can you assist me?'],\n",
    "        'responses': ['I can help you with a variety of tasks. Just ask!', 'Sure, what do you need help with?', 'I\\'m here to help. What do you need?']\n",
    "    },\n",
    "    {\n",
    "        'tag': 'age',\n",
    "        'patterns': ['How old are you?', 'What is your age?', 'When were you born?'],\n",
    "        'responses': ['I don\\'t have an age. I\\'m a chatbot!', 'I was just born digitally, so I\\'m pretty young!']\n",
    "    },\n",
    "    {\n",
    "        'tag': 'weather',\n",
    "        'patterns': ['What\\'s the weather like?', 'How\\'s the weather today?', 'Is it going to rain today?'],\n",
    "        'responses': ['I\\'m not sure, you might want to check a weather website.', 'I can\\'t check the weather right now, but I hope it\\'s nice!']\n",
    "    },\n",
    "    {\n",
    "        'tag': 'joke',\n",
    "        'patterns': ['Tell me a joke', 'Do you know any jokes?', 'Make me laugh'],\n",
    "        'responses': ['Why don’t scientists trust atoms? Because they make up everything!', 'Why did the computer go to the doctor? Because it had a virus!']\n",
    "    },\n",
    "    {\n",
    "        'tag': 'food',\n",
    "        'patterns': ['What should I eat?', 'I\\'m hungry', 'Suggest me some food', 'What\\'s for dinner?'],\n",
    "        'responses': ['How about pizza?', 'You could try some sushi!', 'Pasta is always a good choice.']\n",
    "    },\n",
    "    {\n",
    "        'tag': 'time',\n",
    "        'patterns': ['What time is it?', 'Can you tell me the time?', 'Do you know the current time?'],\n",
    "        'responses': ['I don\\'t have access to real-time data, but you can check your device\\'s clock!', 'Sorry, I can\\'t tell the time.']\n",
    "    },\n",
    "    {\n",
    "        'tag': 'compliment',\n",
    "        'patterns': ['You are awesome', 'You are smart', 'I like you'],\n",
    "        'responses': ['Thank you!', 'You\\'re pretty awesome too!', 'I like you too!']\n",
    "    },\n",
    "    {\n",
    "        'tag': 'apology',\n",
    "        'patterns': ['Sorry', 'I apologize', 'My bad'],\n",
    "        'responses': ['No problem!', 'It\\'s okay!', 'No worries!']\n",
    "    },\n",
    "    {\n",
    "        'tag': 'hobby',\n",
    "        'patterns': ['What do you like to do?', 'Do you have any hobbies?', 'What are your interests?'],\n",
    "        'responses': ['I enjoy chatting with you!', 'My hobby is helping you out!', 'I like learning new things.']\n",
    "    },\n",
    "    {\n",
    "        'tag': 'news',\n",
    "        'patterns': ['What\\'s the latest news?', 'Tell me some news', 'Any updates?'],\n",
    "        'responses': ['I don\\'t have access to current news, but you can check a news website!', 'I\\'m not updated with the latest news.']\n",
    "    },\n",
    "    {\n",
    "        'tag': 'music',\n",
    "        'patterns': ['What music do you like?', 'Recommend me some music', 'Do you listen to music?'],\n",
    "        'responses': ['I like all kinds of music!', 'You should listen to some classical music!', 'I don\\'t listen to music, but I can recommend some.']\n",
    "    },\n",
    "    {\n",
    "        'tag': 'movie',\n",
    "        'patterns': ['Recommend me a movie', 'What movie should I watch?', 'Do you know any good movies?'],\n",
    "        'responses': ['You should watch Inception!', 'The Shawshank Redemption is a great movie!', 'How about watching The Dark Knight?']\n",
    "    },\n",
    "    {\n",
    "        'tag': 'book',\n",
    "        'patterns': ['Recommend me a book', 'What book should I read?', 'Do you know any good books?'],\n",
    "        'responses': ['You should read 1984 by George Orwell!', 'The Great Gatsby is a classic!', 'How about reading To Kill a Mockingbird?']\n",
    "    },\n",
    "    {\n",
    "        'tag': 'exit',\n",
    "        'patterns': ['Exit', 'Quit', 'Stop', 'End'],\n",
    "        'responses': ['Goodbye!', 'See you later!', 'Bye!', 'Have a great day!']\n",
    "    }\n",
    "]"
   ]
  }
 ],
 "metadata": {
  "kernelspec": {
   "display_name": "Python 3",
   "language": "python",
   "name": "python3"
  },
  "language_info": {
   "codemirror_mode": {
    "name": "ipython",
    "version": 3
   },
   "file_extension": ".py",
   "mimetype": "text/x-python",
   "name": "python",
   "nbconvert_exporter": "python",
   "pygments_lexer": "ipython3",
   "version": "3.12.8"
  }
 },
 "nbformat": 4,
 "nbformat_minor": 2
}
